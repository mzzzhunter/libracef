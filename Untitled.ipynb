{
 "cells": [
  {
   "cell_type": "code",
   "execution_count": 47,
   "id": "a86b5386-6aee-439d-95bd-94fc17375be8",
   "metadata": {},
   "outputs": [
    {
     "name": "stdout",
     "output_type": "stream",
     "text": [
      "      A     B\n",
      "0     1    10\n",
      "1     2    20\n",
      "2  None  None\n",
      "3     3    30\n",
      "4     5    50\n"
     ]
    },
    {
     "name": "stderr",
     "output_type": "stream",
     "text": [
      "C:\\Users\\em13200\\AppData\\Local\\Temp\\ipykernel_6904\\1758727672.py:16: SettingWithCopyWarning: \n",
      "A value is trying to be set on a copy of a slice from a DataFrame\n",
      "\n",
      "See the caveats in the documentation: https://pandas.pydata.org/pandas-docs/stable/user_guide/indexing.html#returning-a-view-versus-a-copy\n",
      "  df1.loc[len(df1)] = [None]*len(df1.columns)\n"
     ]
    }
   ],
   "source": [
    "import pandas as pd\n",
    "\n",
    "# Example DataFrame\n",
    "data = {'A': [1, 2, 3, 5], 'B': [10, 20, 30, 50]}\n",
    "df = pd.DataFrame(data)\n",
    "\n",
    "# New row to insert\n",
    "new_row = {'A': 4, 'B': 40}\n",
    "\n",
    "# Target row index to insert before\n",
    "target_index = 2\n",
    "\n",
    "# Shift rows downward and insert the new row\n",
    "# df.loc[len(df)] = [None]*len(df.columns)   # Add an empty row at the end\n",
    "df1 = df.iloc[:target_index]\n",
    "df1.loc[len(df1)] = [None]*len(df1.columns) \n",
    "\n",
    "\n",
    "# Insert the new row elegantly\n",
    "df = pd.concat(\n",
    "    [df1, df.iloc[target_index:]],\n",
    "    ignore_index=True\n",
    ")\n",
    "df.sort_index()\n",
    "\n",
    "print(df)"
   ]
  },
  {
   "cell_type": "code",
   "execution_count": 36,
   "id": "b88120fa-6e86-4fe0-b2fd-118904773108",
   "metadata": {},
   "outputs": [],
   "source": [
    "df.loc[len(df)] = [None]*len(df.columns) "
   ]
  },
  {
   "cell_type": "code",
   "execution_count": 41,
   "id": "70e500e8-ede2-41bc-8c54-115200552d3e",
   "metadata": {},
   "outputs": [
    {
     "ename": "TypeError",
     "evalue": "unhashable type: 'Series'",
     "output_type": "error",
     "traceback": [
      "\u001b[1;31m---------------------------------------------------------------------------\u001b[0m",
      "\u001b[1;31mTypeError\u001b[0m                                 Traceback (most recent call last)",
      "Cell \u001b[1;32mIn[41], line 1\u001b[0m\n\u001b[1;32m----> 1\u001b[0m {df\u001b[38;5;241m.\u001b[39miloc[\u001b[38;5;28mlen\u001b[39m(df)\u001b[38;5;241m-\u001b[39m\u001b[38;5;241m1\u001b[39m]}\n",
      "\u001b[1;31mTypeError\u001b[0m: unhashable type: 'Series'"
     ]
    }
   ],
   "source": [
    "df.iloc[len(df)-1]."
   ]
  },
  {
   "cell_type": "code",
   "execution_count": 9,
   "id": "8d04a357-46ee-4719-a36f-73cceddc57a1",
   "metadata": {},
   "outputs": [
    {
     "name": "stdout",
     "output_type": "stream",
     "text": [
      "   A   B\n",
      "0  1  10\n",
      "1  2  20\n",
      "2  3  30\n",
      "3  4  40\n",
      "4  5  50\n"
     ]
    }
   ],
   "source": [
    "import pandas as pd\n",
    "\n",
    "# Example DataFrame\n",
    "data = {'A': [1, 2, 3, 5], 'B': [10, 20, 30, 50]}\n",
    "df = pd.DataFrame(data)\n",
    "\n",
    "# New row to insert\n",
    "new_row = {'A': 4, 'B': 40}\n",
    "\n",
    "# Target row index to insert before\n",
    "target_index = 3\n",
    "\n",
    "# Insert the new row elegantly\n",
    "df = pd.concat(\n",
    "    [df.iloc[:target_index], pd.DataFrame([new_row]), df.iloc[target_index:]],\n",
    "    ignore_index=True\n",
    ")\n",
    "\n",
    "print(df)\n",
    "\n",
    "\n",
    "\n",
    "\n",
    "\n",
    "\n",
    "\n",
    "\n",
    "\n",
    "\n"
   ]
  },
  {
   "cell_type": "code",
   "execution_count": null,
   "id": "dc48c27f-ad05-4862-ba3d-5a41ef7db3a0",
   "metadata": {},
   "outputs": [],
   "source": []
  }
 ],
 "metadata": {
  "kernelspec": {
   "display_name": "Python 3 (ipykernel)",
   "language": "python",
   "name": "python3"
  },
  "language_info": {
   "codemirror_mode": {
    "name": "ipython",
    "version": 3
   },
   "file_extension": ".py",
   "mimetype": "text/x-python",
   "name": "python",
   "nbconvert_exporter": "python",
   "pygments_lexer": "ipython3",
   "version": "3.10.9"
  }
 },
 "nbformat": 4,
 "nbformat_minor": 5
}
